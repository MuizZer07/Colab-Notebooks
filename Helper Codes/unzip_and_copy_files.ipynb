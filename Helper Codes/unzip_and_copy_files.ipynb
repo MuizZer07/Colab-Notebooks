{
  "nbformat": 4,
  "nbformat_minor": 0,
  "metadata": {
    "colab": {
      "name": "unzip and copy files",
      "version": "0.3.2",
      "provenance": [],
      "collapsed_sections": []
    },
    "kernelspec": {
      "name": "python3",
      "display_name": "Python 3"
    }
  },
  "cells": [
    {
      "metadata": {
        "id": "flF6PMXT8IjM",
        "colab_type": "code",
        "outputId": "1ab50f17-7e19-456e-b5b3-00fd690f743b",
        "colab": {
          "base_uri": "https://localhost:8080/",
          "height": 122
        }
      },
      "cell_type": "code",
      "source": [
        "from google.colab import drive\n",
        "drive.mount('/content/drive')\n",
        "\n",
        "import os\n",
        "import shutil\n",
        "import time\n",
        "import math\n",
        "import zipfile\n",
        "\n",
        "\n",
        "def asMinutes(s):\n",
        "    m = math.floor(s / 60)\n",
        "    s -= m * 60\n",
        "    return '%dm %ds' % (m, s)\n",
        "  \n",
        "def timeSince(since):\n",
        "    now = time.time()\n",
        "    s = now - since\n",
        "    return '%s' % (asMinutes(s))"
      ],
      "execution_count": 1,
      "outputs": [
        {
          "output_type": "stream",
          "text": [
            "Go to this URL in a browser: https://accounts.google.com/o/oauth2/auth?client_id=947318989803-6bn6qk8qdgf4n4g3pfee6491hc0brc4i.apps.googleusercontent.com&redirect_uri=urn%3Aietf%3Awg%3Aoauth%3A2.0%3Aoob&scope=email%20https%3A%2F%2Fwww.googleapis.com%2Fauth%2Fdocs.test%20https%3A%2F%2Fwww.googleapis.com%2Fauth%2Fdrive%20https%3A%2F%2Fwww.googleapis.com%2Fauth%2Fdrive.photos.readonly%20https%3A%2F%2Fwww.googleapis.com%2Fauth%2Fpeopleapi.readonly&response_type=code\n",
            "\n",
            "Enter your authorization code:\n",
            "··········\n",
            "Mounted at /content/drive\n"
          ],
          "name": "stdout"
        }
      ]
    },
    {
      "metadata": {
        "id": "NdFq7XbL8Q70",
        "colab_type": "code",
        "colab": {
          "base_uri": "https://localhost:8080/",
          "height": 34
        },
        "outputId": "3fb9cefa-7cfa-4d89-c868-e7b0cda73c23"
      },
      "cell_type": "code",
      "source": [
        "# Code for unziping a zip file\n",
        "path_to_zip_file = '/content/drive/My Drive/MoneyManager/BanglaSignLanguage.zip'\n",
        "directory_to_extract_to = '/content/drive/My Drive/Colab Notebooks/'\n",
        "\n",
        "start = time.time()\n",
        "zip_ref = zipfile.ZipFile(path_to_zip_file, 'r')\n",
        "zip_ref.extractall(directory_to_extract_to)\n",
        "zip_ref.close()\n",
        "print(\"Time elapsed: \", timeSince(start))"
      ],
      "execution_count": 3,
      "outputs": [
        {
          "output_type": "stream",
          "text": [
            "Time elapsed:  0m 4s\n"
          ],
          "name": "stdout"
        }
      ]
    },
    {
      "metadata": {
        "id": "H42rGl6v8nip",
        "colab_type": "code",
        "colab": {}
      },
      "cell_type": "code",
      "source": [
        "# directory_to_extract_to = '/content/drive/My Drive/Colab Notebooks/IDC/test/1/'\n",
        "print(len(os.listdir(directory_to_extract_to)))"
      ],
      "execution_count": 0,
      "outputs": []
    },
    {
      "metadata": {
        "id": "RH5HMPnb-112",
        "colab_type": "code",
        "colab": {}
      },
      "cell_type": "code",
      "source": [
        "# Code for copying one file from another\n",
        "dir_src = (\"/content/drive/My Drive/468Project/train0_1_b.zip (Unzipped Files)/train0_1_b/\")\n",
        "dir_dst = (\"/content/drive/My Drive/468Project/IDC/train/0/\")\n",
        "i = 0\n",
        "\n",
        "for filename in os.listdir(dir_src):\n",
        "    start = time.time()\n",
        "    if filename.endswith('.png'):\n",
        "        shutil.copy( dir_src + filename, dir_dst)\n",
        "        i += 1\n",
        "    print(str(i), filename)\n",
        "    \n",
        "print(\"Time elapsed: \", timeSince(start))"
      ],
      "execution_count": 0,
      "outputs": []
    }
  ]
}